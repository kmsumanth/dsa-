{
 "cells": [
  {
   "cell_type": "markdown",
   "id": "3ff331f7",
   "metadata": {},
   "source": [
    "# **Question 1**\n",
    "\n",
    "Given an integer array nums of length n and an integer target, find three integers\n",
    "in nums such that the sum is closest to the target.\n",
    "Return the sum of the three integers.\n",
    "\n",
    "You may assume that each input would have exactly one solution.\n",
    "\n",
    "Example 1:\n",
    "Input: nums = [-1,2,1,-4], target = 1\n",
    "Output: 2\n",
    "\n",
    "Explanation: The sum that is closest to the target is 2. (-1 + 2 + 1 = 2)."
   ]
  },
  {
   "cell_type": "code",
   "execution_count": 24,
   "id": "556a6e08",
   "metadata": {},
   "outputs": [
    {
     "data": {
      "text/plain": [
       "2"
      ]
     },
     "execution_count": 24,
     "metadata": {},
     "output_type": "execute_result"
    }
   ],
   "source": [
    "def threeSumClosest(nums, target):\n",
    "        nums.sort()\n",
    "        res = sum(nums[:3])\n",
    "        for i in range(len(nums)-2):\n",
    "            l = i+1\n",
    "            r = len(nums)-1\n",
    "            while l < r:\n",
    "                countSum = nums[i] + nums[l] + nums[r]\n",
    "                if abs(countSum-target) < abs(res-target):\n",
    "                    res = countSum\n",
    "                if countSum < target:\n",
    "                    l +=1\n",
    "                else:\n",
    "                    r -=1\n",
    "        return res\n",
    "    \n",
    "threeSumClosest([-1,2,1,-4], 1)\n",
    "                    "
   ]
  },
  {
   "cell_type": "markdown",
   "id": "e1347daa",
   "metadata": {},
   "source": [
    "# **Question 2**\n",
    "\n",
    "\n",
    "Given an array nums of n integers, return an array of all the unique quadruplets\n",
    "[nums[a], nums[b], nums[c], nums[d]] such that:\n",
    "           ● 0 <= a, b, c, d < n\n",
    "           ● a, b, c, and d are distinct.\n",
    "           ● nums[a] + nums[b] + nums[c] + nums[d] == target\n",
    "\n",
    "You may return the answer in any order.\n",
    "\n",
    "Example 1:\n",
    "Input: nums = [1,0,-1,0,-2,2], target = 0\n",
    "Output: [[-2,-1,1,2],[-2,0,0,2],[-1,0,0,1]]"
   ]
  },
  {
   "cell_type": "code",
   "execution_count": null,
   "id": "7c8de528",
   "metadata": {},
   "outputs": [],
   "source": []
  },
  {
   "cell_type": "markdown",
   "id": "e947c6bb",
   "metadata": {},
   "source": [
    "# **Question 3**\n",
    "    \n",
    "    \n",
    "A permutation of an array of integers is an arrangement of its members into a\n",
    "sequence or linear order.\n",
    "\n",
    "For example, for arr = [1,2,3], the following are all the permutations of arr:\n",
    "[1,2,3], [1,3,2], [2, 1, 3], [2, 3, 1], [3,1,2], [3,2,1].\n",
    "\n",
    "The next permutation of an array of integers is the next lexicographically greater\n",
    "permutation of its integer. More formally, if all the permutations of the array are\n",
    "sorted in one container according to their lexicographical order, then the next\n",
    "permutation of that array is the permutation that follows it in the sorted container.\n",
    "\n",
    "If such an arrangement is not possible, the array must be rearranged as the\n",
    "lowest possible order (i.e., sorted in ascending order).\n",
    "\n",
    "● For example, the next permutation of arr = [1,2,3] is [1,3,2].\n",
    "● Similarly, the next permutation of arr = [2,3,1] is [3,1,2].\n",
    "● While the next permutation of arr = [3,2,1] is [1,2,3] because [3,2,1] does not\n",
    "have a lexicographical larger rearrangement.\n",
    "\n",
    "Given an array of integers nums, find the next permutation of nums.\n",
    "The replacement must be in place and use only constant extra memory.\n",
    "\n",
    "**Example 1:**\n",
    "Input: nums = [1,2,3]\n",
    "Output: [1,3,2]\n",
    "\n",
    "</aside>"
   ]
  },
  {
   "cell_type": "code",
   "execution_count": 26,
   "id": "32082470",
   "metadata": {},
   "outputs": [],
   "source": [
    "def nextPermutation(nums):\n",
    "        \"\"\"\n",
    "        :type nums: List[int]\n",
    "        :rtype: None Do not return anything, modify nums in-place instead.\n",
    "        \"\"\"\n",
    "        \"\"\"\n",
    "        def reverse(nums,start):\n",
    "            i = start\n",
    "            j = len(nums)-1\n",
    "            while i < j:\n",
    "                nums[i],nums[j] = nums[j],nums[i]\n",
    "                i +=1\n",
    "                j -=1\n",
    "                \n",
    "        i = len(nums)-2\n",
    "        while i >=0 and nums[i+1] <= nums[i]:\n",
    "            i -= 1\n",
    "        if i >= 0:\n",
    "            j = len(nums)-1\n",
    "            while nums[j] <= nums[i]:\n",
    "                j -= 1\n",
    "            nums[i],nums[j] = nums[j],nums[i]\n",
    "        reverse(nums,i+1)\n",
    "        \"\"\"\n",
    "        # 1, 4,5,8,7\n",
    "        pivot = None\n",
    "        # to find pivot\n",
    "        for i in range(len(nums)-1,0,-1):\n",
    "            if nums[i] > nums[i-1]:\n",
    "                pivot = i-1\n",
    "                break\n",
    "        else:\n",
    "            # if didn't find the pivot\n",
    "            nums.reverse()\n",
    "            return\n",
    "        swap = len(nums)-1\n",
    "        # decreasing swap untill we find nums[swap]> nums[pivot]\n",
    "        while nums[swap] <= nums[pivot]:\n",
    "            swap -= 1\n",
    "        nums[swap],nums[pivot] = nums[pivot],nums[swap]\n",
    "        nums[pivot+1:] = reversed(nums[pivot+1:])\n",
    "        return\n",
    "    \n",
    "nums = [1,2,3]\n"
   ]
  },
  {
   "cell_type": "markdown",
   "id": "b5449bd8",
   "metadata": {},
   "source": [
    "# **Question 4**\n",
    "\n",
    "\n",
    "Given a sorted array of distinct integers and a target value, return the index if the\n",
    "target is found. If not, return the index where it would be if it were inserted in\n",
    "order.\n",
    "\n",
    "You must write an algorithm with O(log n) runtime complexity.\n",
    "\n",
    "Example 1:\n",
    "Input: nums = [1,3,5,6], target = 5\n",
    "Output: 2"
   ]
  },
  {
   "cell_type": "code",
   "execution_count": 27,
   "id": "d329e96b",
   "metadata": {},
   "outputs": [
    {
     "data": {
      "text/plain": [
       "2"
      ]
     },
     "execution_count": 27,
     "metadata": {},
     "output_type": "execute_result"
    }
   ],
   "source": [
    "def searchInsert(nums, target):\n",
    "        l = 0\n",
    "        r = len(nums)-1\n",
    "        \n",
    "        while l <= r:\n",
    "            m = (l+r)//2\n",
    "            if target == nums[m]:\n",
    "                return m\n",
    "            if target > nums[m]:\n",
    "                l = m+1\n",
    "                \n",
    "            else:\n",
    "                r = m-1\n",
    "        return l\n",
    "searchInsert([1,3,5,6], 5)"
   ]
  },
  {
   "cell_type": "markdown",
   "id": "d7d98c3e",
   "metadata": {},
   "source": [
    "# **Question 5**\n",
    "\n",
    "\n",
    "You are given a large integer represented as an integer array digits, where each\n",
    "digits[i] is the ith digit of the integer. The digits are ordered from most significant\n",
    "to least significant in left-to-right order. The large integer does not contain any\n",
    "leading 0's.\n",
    "\n",
    "Increment the large integer by one and return the resulting array of digits.\n",
    "\n",
    "**Example 1:**\n",
    "Input: digits = [1,2,3]\n",
    "Output: [1,2,4]\n",
    "\n",
    "**Explanation:** The array represents the integer 123.\n",
    "Incrementing by one gives 123 + 1 = 124.\n",
    "Thus, the result should be [1,2,4].\n",
    "\n",
    "</aside>"
   ]
  },
  {
   "cell_type": "code",
   "execution_count": 16,
   "id": "124344c7",
   "metadata": {},
   "outputs": [
    {
     "data": {
      "text/plain": [
       "[1, 2, 4]"
      ]
     },
     "execution_count": 16,
     "metadata": {},
     "output_type": "execute_result"
    }
   ],
   "source": [
    "def plusOne(digits):\n",
    "\n",
    "        digits = digits[::-1]\n",
    "        carry = 1\n",
    "        i = 0\n",
    "        while carry:\n",
    "            if i < len(digits):\n",
    "                if digits[i] == 9:\n",
    "                    digits[i] = 0\n",
    "                else:\n",
    "                    digits[i] += 1\n",
    "                    carry = 0\n",
    "            else:\n",
    "                digits.append(1)\n",
    "                carry = 0\n",
    "            i+= 1\n",
    "        return digits[::-1]\n",
    "plusOne([1,2,3])"
   ]
  },
  {
   "cell_type": "markdown",
   "id": "b4f60bc0",
   "metadata": {},
   "source": [
    "# **QUESTION-6**\n",
    "\n",
    "Given a non-empty array of integers nums, every element appears twice except\n",
    "for one. Find that single one.\n",
    "\n",
    "You must implement a solution with a linear runtime complexity and use only\n",
    "constant extra space.\n",
    "Question 6\n",
    "Given a non-empty array of integers nums, every element appears twice except\n",
    "for one. Find that single one.\n",
    "\n",
    "You must implement a solution with a linear runtime complexity and use only\n",
    "constant extra space.\n",
    "\n",
    "Example 1:\n",
    "Input: nums = [2,2,1]\n",
    "Output: 1\n"
   ]
  },
  {
   "cell_type": "code",
   "execution_count": 13,
   "id": "1f90c6c7",
   "metadata": {},
   "outputs": [
    {
     "data": {
      "text/plain": [
       "1"
      ]
     },
     "execution_count": 13,
     "metadata": {},
     "output_type": "execute_result"
    }
   ],
   "source": [
    "def singleNumber(nums):\n",
    "        x = 0\n",
    "        n = len(nums)\n",
    "        for i in range(n):\n",
    "            x = x ^ nums[i]\n",
    "        return x\n",
    "singleNumber([2,2,1])  "
   ]
  },
  {
   "cell_type": "markdown",
   "id": "0e4c7864",
   "metadata": {},
   "source": [
    "# Question 7\n",
    "\n",
    "\n",
    "You are given an inclusive range [lower, upper] and a sorted unique integer array\n",
    "nums, where all elements are within the inclusive range.\n",
    "\n",
    "A number x is considered missing if x is in the range [lower, upper] and x is not in\n",
    "nums.\n",
    "\n",
    "Return the shortest sorted list of ranges that exactly covers all the missing\n",
    "numbers. That is, no element of nums is included in any of the ranges, and each\n",
    "missing number is covered by one of the ranges.\n",
    "\n",
    "Example 1:\n",
    "Input: nums = [0,1,3,50,75], lower = 0, upper = 99\n",
    "Output: [[2,2],[4,49],[51,74],[76,99]]\n",
    "\n",
    "Explanation: The ranges are:\n",
    "[2,2]\n",
    "[4,49]\n",
    "[51,74]\n",
    "[76,99]"
   ]
  },
  {
   "cell_type": "code",
   "execution_count": 1,
   "id": "70e5c4f8",
   "metadata": {},
   "outputs": [
    {
     "data": {
      "text/plain": [
       "['2', '4->49', '51->74', '76->99']"
      ]
     },
     "execution_count": 1,
     "metadata": {},
     "output_type": "execute_result"
    }
   ],
   "source": [
    "def find_missing_ranges(nums, lower, upper):\n",
    "        # write your code here\n",
    "        def f(a, b):\n",
    "            return str(a) if a == b else f'{a}->{b}'\n",
    "\n",
    "        n = len(nums)\n",
    "        if n == 0:\n",
    "            return [f(lower, upper)]\n",
    "        ans = []\n",
    "        if nums[0] > lower:\n",
    "            ans.append(f(lower, nums[0] - 1))\n",
    "        for i in range(len(nums)-1):\n",
    "            if nums[i+1] != nums[i] and nums[i+1] > nums[i] +1:\n",
    "                ans.append(f(nums[i]+1, nums[i+1]-1))\n",
    "        \n",
    "                \n",
    "        if nums[-1] < upper:\n",
    "            ans.append(f(nums[-1] + 1, upper))\n",
    "        return ans\n",
    "find_missing_ranges([0, 1, 3, 50, 75],0, 99)\n",
    "# nums = [0, 1, 2, 3, 7], lower = 0 and upper = 7"
   ]
  },
  {
   "cell_type": "markdown",
   "id": "063853cc",
   "metadata": {},
   "source": [
    "# QUESTION 8\n",
    "\n",
    "Given an array of meeting time intervals where intervals[i] = [starti, endi],\n",
    "determine if a person could attend all meetings.\n",
    "\n",
    "Example 1:\n",
    "Input: intervals = [[0,30],[5,10],[15,20]]\n",
    "Output: false"
   ]
  },
  {
   "cell_type": "code",
   "execution_count": 11,
   "id": "8f527eb4",
   "metadata": {},
   "outputs": [
    {
     "data": {
      "text/plain": [
       "True"
      ]
     },
     "execution_count": 11,
     "metadata": {},
     "output_type": "execute_result"
    }
   ],
   "source": [
    "def canAttendMeetings(intervals):\n",
    "        new_intervals = sorted(intervals, key=lambda x: x[0])\n",
    "        for i in range(1,len(new_intervals)):\n",
    "            if new_intervals[i-1][1] > new_intervals[i][0]:return False\n",
    "        return True\n",
    "canAttendMeetings([[7,10],[2,4]])"
   ]
  }
 ],
 "metadata": {
  "kernelspec": {
   "display_name": "Python 3 (ipykernel)",
   "language": "python",
   "name": "python3"
  },
  "language_info": {
   "codemirror_mode": {
    "name": "ipython",
    "version": 3
   },
   "file_extension": ".py",
   "mimetype": "text/x-python",
   "name": "python",
   "nbconvert_exporter": "python",
   "pygments_lexer": "ipython3",
   "version": "3.9.13"
  }
 },
 "nbformat": 4,
 "nbformat_minor": 5
}
