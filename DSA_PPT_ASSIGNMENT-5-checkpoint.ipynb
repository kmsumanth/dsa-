{
 "cells": [
  {
   "cell_type": "markdown",
   "id": "b2c7c1f9",
   "metadata": {},
   "source": [
    "# **Question 1**\n",
    "\n",
    "Convert 1D Array Into 2D Array\n",
    "\n",
    "You are given a **0-indexed** 1-dimensional (1D) integer array original, and two integers, m and n. You are tasked with creating a 2-dimensional (2D) array with  m rows and n columns using **all** the elements from original.\n",
    "\n",
    "The elements from indices 0 to n - 1 (**inclusive**) of original should form the first row of the constructed 2D array, the elements from indices n to 2 * n - 1 (**inclusive**) should form the second row of the constructed 2D array, and so on.\n",
    "\n",
    "Return *an* m x n *2D array constructed according to the above procedure, or an empty 2D array if it is impossible*.\n",
    "\n",
    "**Example 1:**\n",
    "\n",
    "**Input:** original = [1,2,3,4], m = 2, n = 2\n",
    "\n",
    "**Output:** [[1,2],[3,4]]\n",
    "\n",
    "**Explanation:** The constructed 2D array should contain 2 rows and 2 columns.\n",
    "\n",
    "The first group of n=2 elements in original, [1,2], becomes the first row in the constructed 2D array.\n",
    "\n",
    "The second group of n=2 elements in original, [3,4], becomes the second row in the constructed 2D array.\n"
   ]
  },
  {
   "cell_type": "code",
   "execution_count": 6,
   "id": "d36f7b6b",
   "metadata": {},
   "outputs": [
    {
     "data": {
      "text/plain": [
       "[[1, 2], [3, 4]]"
      ]
     },
     "execution_count": 6,
     "metadata": {},
     "output_type": "execute_result"
    }
   ],
   "source": [
    "def construct2DArray(original,m,n):\n",
    "    if (m*n) != len(original):\n",
    "        return []\n",
    "    ans =[]\n",
    "    for i in range(0,len(original),n):\n",
    "        ans.append(original[i:i+n])\n",
    "    return ans\n",
    "\n",
    "construct2DArray([1,2,3,4],2,2)"
   ]
  },
  {
   "cell_type": "markdown",
   "id": "c59fe32e",
   "metadata": {},
   "source": [
    "# Question 2\n",
    "You have n coins and you want to build a staircase with these coins. The staircase consists of k rows where the ith row has exactly i coins. The last row of the staircase may be incomplete.\n",
    "\n",
    "Given the integer n, return the number of complete rows of the staircase you will build.\n",
    "\n",
    "Input: n = 5\n",
    "\n",
    "Output: 2\n",
    "\n",
    "Explanation: Because the 3rd row is incomplete, we return 2."
   ]
  },
  {
   "cell_type": "code",
   "execution_count": 3,
   "id": "dff278a5",
   "metadata": {},
   "outputs": [
    {
     "data": {
      "text/plain": [
       "2"
      ]
     },
     "execution_count": 3,
     "metadata": {},
     "output_type": "execute_result"
    }
   ],
   "source": [
    "def arrangeCoins(n):\n",
    "        l = 0\n",
    "        r = n\n",
    "        res = 0\n",
    "        while l <= r:\n",
    "            mid = (r+l)//2\n",
    "            coins = (mid/2) * (mid+1)\n",
    "            if coins > n:\n",
    "                r = mid-1\n",
    "            else:\n",
    "                l = mid+1\n",
    "                res = max(mid,res)\n",
    "        return res\n",
    "arrangeCoins(5)"
   ]
  },
  {
   "cell_type": "markdown",
   "id": "bc0fd4b6",
   "metadata": {},
   "source": [
    "# Question 3\n",
    "Given an integer array nums sorted in non-decreasing order, return an array of the squares of each number sorted in non-decreasing order.\n",
    "\n",
    "Example 1:\n",
    "\n",
    "Input: nums = [-4,-1,0,3,10]\n",
    "\n",
    "Output: [0,1,9,16,100]\n",
    "\n",
    "Explanation: After squaring, the array becomes [16,1,0,9,100]. After sorting, it becomes [0,1,9,16,100]"
   ]
  },
  {
   "cell_type": "code",
   "execution_count": 2,
   "id": "f817d07c",
   "metadata": {},
   "outputs": [
    {
     "data": {
      "text/plain": [
       "[0, 1, 9, 16, 100]"
      ]
     },
     "execution_count": 2,
     "metadata": {},
     "output_type": "execute_result"
    }
   ],
   "source": [
    "def sortedSquares(nums):\n",
    "    n = len(nums)\n",
    "    l = 0\n",
    "    r = n-1\n",
    "    k = n-1\n",
    "    ans = [0]* n\n",
    "    while k >=0:\n",
    "        if abs(nums[l]) > nums[r]:\n",
    "            \n",
    "            ans[k] = (nums[l] * nums[l])\n",
    "            l +=1\n",
    "        else:\n",
    "            ans[k] = (nums[r] * nums[r])\n",
    "            r -= 1\n",
    "        k -= 1\n",
    "    return ans\n",
    "\n",
    "sortedSquares([-4,-1,0,3,10])           "
   ]
  },
  {
   "cell_type": "markdown",
   "id": "d528f09e",
   "metadata": {},
   "source": [
    "# Question 4\n",
    "Given two 0-indexed integer arrays nums1 and nums2, return a list answer of size 2 where:\n",
    "\n",
    "answer[0] is a list of all distinct integers in nums1 which are not present in nums2.\n",
    "answer[1] is a list of all distinct integers in nums2 which are not present in nums1.\n",
    "Note that the integers in the lists may be returned in any order.\n",
    "\n",
    "Example 1:\n",
    "\n",
    "Input: nums1 = [1,2,3], nums2 = [2,4,6]\n",
    "\n",
    "Output: [[1,3],[4,6]]\n",
    "\n",
    "Explanation:\n",
    "\n",
    "For nums1, nums1[1] = 2 is present at index 0 of nums2, whereas nums1[0] = 1 and nums1[2] = 3 are not present in nums2. Therefore, answer[0] = [1,3].\n",
    "\n",
    "For nums2, nums2[0] = 2 is present at index 1 of nums1, whereas nums2[1] = 4 and nums2[2] = 6 are not present in nums2. Therefore, answer[1] = [4,6]."
   ]
  },
  {
   "cell_type": "code",
   "execution_count": 4,
   "id": "acce506a",
   "metadata": {},
   "outputs": [
    {
     "data": {
      "text/plain": [
       "[[1, 3], [4, 6]]"
      ]
     },
     "execution_count": 4,
     "metadata": {},
     "output_type": "execute_result"
    }
   ],
   "source": [
    "def findDifference(nums1,nums2):\n",
    "    num1 = set(nums1)\n",
    "    num2 = set(nums2)\n",
    "    ans = [[],[]]\n",
    "    for i in num1:\n",
    "        if i not in num2:\n",
    "            ans[0].append(i)\n",
    "    for i in num2:\n",
    "        if i not in num1:\n",
    "            ans[1].append(i)\n",
    "    return ans\n",
    "\n",
    "findDifference([1,2,3],[2,4,6])\n",
    "            "
   ]
  },
  {
   "cell_type": "markdown",
   "id": "6a40f510",
   "metadata": {},
   "source": [
    "# **Question 5**\n",
    "\n",
    "Given two integer arrays arr1 and arr2, and the integer d, *return the distance value between the two arrays*.\n",
    "\n",
    "The distance value is defined as the number of elements arr1[i] such that there is not any element arr2[j] where |arr1[i]-arr2[j]| <= d.\n",
    "\n",
    "**Example 1:**\n",
    "\n",
    "**Input:** arr1 = [4,5,8], arr2 = [10,9,1,8], d = 2\n",
    "\n",
    "**Output:** 2\n",
    "\n",
    "**Explanation:**\n",
    "\n",
    "For arr1[0]=4 we have:\n",
    "\n",
    "|4-10|=6 > d=2\n",
    "\n",
    "|4-9|=5 > d=2\n",
    "\n",
    "|4-1|=3 > d=2\n",
    "\n",
    "|4-8|=4 > d=2\n",
    "\n",
    "For arr1[1]=5 we have:\n",
    "\n",
    "|5-10|=5 > d=2\n",
    "\n",
    "|5-9|=4 > d=2\n",
    "\n",
    "|5-1|=4 > d=2\n",
    "\n",
    "|5-8|=3 > d=2\n",
    "\n",
    "For arr1[2]=8 we have:\n",
    "\n",
    "**|8-10|=2 <= d=2**\n",
    "\n",
    "**|8-9|=1 <= d=2**\n",
    "\n",
    "|8-1|=7 > d=2\n",
    "\n",
    "**|8-8|=0 <= d=2**\n",
    "\n"
   ]
  },
  {
   "cell_type": "code",
   "execution_count": 15,
   "id": "8477ebe2",
   "metadata": {},
   "outputs": [
    {
     "data": {
      "text/plain": [
       "2"
      ]
     },
     "execution_count": 15,
     "metadata": {},
     "output_type": "execute_result"
    }
   ],
   "source": [
    " def findTheDistanceValue(arr1,arr2,d):\n",
    "        # time complexity O(nlog n)\n",
    "        n = len(arr2)\n",
    "        arr2.sort()\n",
    "        for num in arr1:\n",
    "            low, high = 0, n - 1\n",
    "            nondistantvalue = 0\n",
    "            while low <= high:\n",
    "                mid = (low + high) // 2\n",
    "                if abs(num - arr2[mid]) <= d:\n",
    "                    nondistantvalue += 1\n",
    "                    break\n",
    "                elif arr2[mid] < num:\n",
    "                    low = mid + 1\n",
    "                else:\n",
    "                    high = mid - 1\n",
    "        return len(arr1)-nondistantvalue\n",
    "findTheDistanceValue([4,5,8],[10,9,1,8],2)\n",
    "        \n",
    "                    "
   ]
  },
  {
   "cell_type": "code",
   "execution_count": null,
   "id": "8be9ef82",
   "metadata": {},
   "outputs": [],
   "source": [
    "## brute force\n",
    "       \n",
    "        count = 0\n",
    "        for i in range(len(arr1)):\n",
    "            for j in range(len(arr2)):\n",
    "                if abs(arr1[i] - arr2[j]) <= d:\n",
    "                    count += 1\n",
    "                    break\n",
    "        return len(arr1)-count"
   ]
  },
  {
   "cell_type": "markdown",
   "id": "64f09c71",
   "metadata": {},
   "source": [
    "# Question 6\n",
    "\n",
    "Given two 0-indexed integer arrays nums1 and nums2, return a list answer of size 2 where:\n",
    "\n",
    "answer[0] is a list of all distinct integers in nums1 which are not present in nums2.\n",
    "answer[1] is a list of all distinct integers in nums2 which are not present in nums1.\n",
    "Note that the integers in the lists may be returned in any order.\n",
    "\n",
    "Example 1:\n",
    "\n",
    "Input: nums1 = [1,2,3], nums2 = [2,4,6]\n",
    "\n",
    "Output: [[1,3],[4,6]]\n",
    "\n",
    "Explanation:\n",
    "\n",
    "For nums1, nums1[1] = 2 is present at index 0 of nums2, whereas nums1[0] = 1 and nums1[2] = 3 are not present in nums2. Therefore, answer[0] = [1,3].\n",
    "\n",
    "For nums2, nums2[0] = 2 is present at index 1 of nums1, whereas nums2[1] = 4 and nums2[2] = 6 are not present in nums2. Therefore, answer[1] = [4,6]."
   ]
  },
  {
   "cell_type": "code",
   "execution_count": 1,
   "id": "4aae955a",
   "metadata": {},
   "outputs": [
    {
     "data": {
      "text/plain": [
       "[[1, 3], [4, 6]]"
      ]
     },
     "execution_count": 1,
     "metadata": {},
     "output_type": "execute_result"
    }
   ],
   "source": [
    "def findDifference(nums1,nums2):\n",
    "    num1 = set(nums1)\n",
    "    num2 = set(nums2)\n",
    "    ans = [[],[]]\n",
    "    for i in num1:\n",
    "        if i not in num2:\n",
    "            ans[0].append(i)\n",
    "    for i in num2:\n",
    "        if i not in num1:\n",
    "            ans[1].append(i)\n",
    "    return ans\n",
    "\n",
    "findDifference([1,2,3],[2,4,6])"
   ]
  },
  {
   "cell_type": "markdown",
   "id": "25ef3cd0",
   "metadata": {},
   "source": [
    "# **Question 7**\n",
    "\n",
    "Suppose an array of length n sorted in ascending order is **rotated** between 1 and n times. For example, the array nums = [0,1,2,4,5,6,7] might become:\n",
    "\n",
    "- [4,5,6,7,0,1,2] if it was rotated 4 times.\n",
    "- [0,1,2,4,5,6,7] if it was rotated 7 times.\n",
    "\n",
    "Notice that **rotating** an array [a[0], a[1], a[2], ..., a[n-1]] 1 time results in the array [a[n-1], a[0], a[1], a[2], ..., a[n-2]].\n",
    "\n",
    "Given the sorted rotated array nums of **unique** elements, return *the minimum element of this array*.\n",
    "\n",
    "You must write an algorithm that runs in O(log n) time.\n",
    "\n",
    "**Example 1:**\n",
    "\n",
    "**Input:** nums = [3,4,5,1,2]\n",
    "\n",
    "**Output:** 1\n",
    "\n",
    "**Explanation:**\n",
    "\n",
    "The original array was [1,2,3,4,5] rotated 3 times.\n",
    "\n",
    "</aside>"
   ]
  },
  {
   "cell_type": "code",
   "execution_count": 5,
   "id": "10b80fa7",
   "metadata": {},
   "outputs": [
    {
     "data": {
      "text/plain": [
       "1"
      ]
     },
     "execution_count": 5,
     "metadata": {},
     "output_type": "execute_result"
    }
   ],
   "source": [
    "def findMin(nums):\n",
    "    if len(nums) == 1:\n",
    "        return nums[0]\n",
    "    l = 0\n",
    "    r = len(nums)-1\n",
    "    # if the last element is greater than the first element then there is no rotation.\n",
    "    if nums[r] > nums[l]:\n",
    "        return nums[l]\n",
    "    while l <= r:\n",
    "        mid = (l+r)//2\n",
    "        if nums[mid] > nums[mid+1]:\n",
    "            return nums[mid+1]\n",
    "        if nums[mid-1] > nums[mid]:\n",
    "            return nums[mid]\n",
    "        if nums[mid] > nums[0]:\n",
    "            l = mid+1\n",
    "        else:\n",
    "            r = mid-1\n",
    "findMin([3,4,5,1,2])"
   ]
  },
  {
   "cell_type": "markdown",
   "id": "155d4ea2",
   "metadata": {},
   "source": [
    "# **Question 8**\n",
    "\n",
    "An integer array original is transformed into a **doubled** array changed by appending **twice the value** of every element in original, and then randomly **shuffling** the resulting array.\n",
    "\n",
    "Given an array changed, return original *if* changed *is a **doubled** array. If* changed *is not a **doubled** array, return an empty array. The elements in* original *may be returned in **any** order*.\n",
    "\n",
    "**Example 1:**\n",
    "\n",
    "**Input:** changed = [1,3,4,2,6,8]\n",
    "\n",
    "**Output:** [1,3,4]\n",
    "\n",
    "**Explanation:** One possible original array could be [1,3,4]:\n",
    "\n",
    "- Twice the value of 1 is 1 * 2 = 2.\n",
    "- Twice the value of 3 is 3 * 2 = 6.\n",
    "- Twice the value of 4 is 4 * 2 = 8.\n",
    "\n",
    "Other original arrays could be [4,3,1] or [3,1,4].\n",
    "\n",
    "</aside>"
   ]
  },
  {
   "cell_type": "code",
   "execution_count": 2,
   "id": "83f43729",
   "metadata": {},
   "outputs": [
    {
     "data": {
      "text/plain": [
       "[1, 3, 4]"
      ]
     },
     "execution_count": 2,
     "metadata": {},
     "output_type": "execute_result"
    }
   ],
   "source": [
    "# time complexity O(n log n)\n",
    "# space complexity O(n)\n",
    "# intuition behind this is create counter and remove the num and its double if found\n",
    "\n",
    "import collections\n",
    "def findOriginalArray(nums):\n",
    "    occurence = collections.Counter(nums)\n",
    "    nums.sort()\n",
    "    res = []\n",
    "    for num in nums:\n",
    "        if occurence[num] == 0:\n",
    "            continue\n",
    "        if occurence[num * 2] == 0:\n",
    "            return []\n",
    "        # for case [0,0] or [0]\n",
    "        if num == 0 and occurence[num] <= 1:\n",
    "            return []\n",
    "        \n",
    "        res.append(num)\n",
    "        occurence[num] -= 1\n",
    "        occurence[num * 2] -= 1\n",
    "    return res\n",
    "\n",
    "findOriginalArray([1,3,4,2,6,8])"
   ]
  },
  {
   "cell_type": "code",
   "execution_count": null,
   "id": "0b98ba66",
   "metadata": {},
   "outputs": [],
   "source": []
  }
 ],
 "metadata": {
  "kernelspec": {
   "display_name": "Python 3 (ipykernel)",
   "language": "python",
   "name": "python3"
  },
  "language_info": {
   "codemirror_mode": {
    "name": "ipython",
    "version": 3
   },
   "file_extension": ".py",
   "mimetype": "text/x-python",
   "name": "python",
   "nbconvert_exporter": "python",
   "pygments_lexer": "ipython3",
   "version": "3.9.13"
  }
 },
 "nbformat": 4,
 "nbformat_minor": 5
}
